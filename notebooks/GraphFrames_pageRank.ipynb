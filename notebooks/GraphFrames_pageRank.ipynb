{
 "cells": [
  {
   "cell_type": "code",
   "execution_count": 1,
   "metadata": {},
   "outputs": [],
   "source": [
    "from pyspark.sql import SparkSession\n",
    "from pyspark.sql.types import *\n",
    "from graphframes import GraphFrame"
   ]
  },
  {
   "cell_type": "code",
   "execution_count": 2,
   "metadata": {},
   "outputs": [],
   "source": [
    "sparkSession = SparkSession.builder\\\n",
    "                            .appName(\"spark_sql\")\\\n",
    "                            .master('local')\\\n",
    "                            .getOrCreate()"
   ]
  },
  {
   "cell_type": "markdown",
   "metadata": {},
   "source": [
    "## Create GraphFrame"
   ]
  },
  {
   "cell_type": "code",
   "execution_count": 3,
   "metadata": {},
   "outputs": [],
   "source": [
    "vertices = sparkSession.createDataFrame([\n",
    "    (\"1\", \"Alex\", 28, \"M\", \"MIPT\"),\n",
    "    (\"2\", \"Emeli\", 28, \"F\", \"MIPT\"),\n",
    "    (\"3\", \"Natasha\", 27, \"F\", \"MIPT\"),\n",
    "    (\"4\", \"Pavel\", 30, \"M\", \"MIPT\"),\n",
    "    (\"5\", \"Oleg\", 35, \"M\", \"MIPT\"),\n",
    "    (\"6\", \"Ivan\", 30, \"M\", \"MSU\"),\n",
    "    (\"7\", \"Ilya\", 29, \"M\", \"MSU\")\n",
    "], ['id', 'name', 'age', 'gemder', 'universty'])"
   ]
  },
  {
   "cell_type": "code",
   "execution_count": 4,
   "metadata": {},
   "outputs": [],
   "source": [
    "edges = sparkSession.createDataFrame([\n",
    "    ('1', '2', 'friend'), ('2', '1', 'friend'), \n",
    "    ('1', '3', 'friend'), ('3', '1', 'friend'), \n",
    "    ('1', '4', 'friend'), ('4', '1', 'friend'), \n",
    "    ('2', '3', 'friend'), ('3', '2', 'friend'), \n",
    "    ('2', '5', 'friend'), ('5', '2', 'friend'), \n",
    "    ('3', '4', 'friend'), ('4', '3', 'friend'), \n",
    "    ('3', '5', 'friend'), ('5', '3', 'friend'), \n",
    "    ('3', '6', 'friend'), ('6', '3', 'friend'), \n",
    "    ('3', '7', 'friend'), ('7', '3', 'friend')\n",
    "], ['src', 'dst', 'relationship'])"
   ]
  },
  {
   "cell_type": "code",
   "execution_count": 5,
   "metadata": {},
   "outputs": [],
   "source": [
    "g = GraphFrame(vertices, edges)"
   ]
  },
  {
   "cell_type": "markdown",
   "metadata": {},
   "source": [
    "## Show data from GraphFrame"
   ]
  },
  {
   "cell_type": "code",
   "execution_count": 6,
   "metadata": {},
   "outputs": [
    {
     "name": "stdout",
     "output_type": "stream",
     "text": [
      "+---+-------+---+------+---------+\n",
      "| id|   name|age|gemder|universty|\n",
      "+---+-------+---+------+---------+\n",
      "|  1|   Alex| 28|     M|     MIPT|\n",
      "|  2|  Emeli| 28|     F|     MIPT|\n",
      "|  3|Natasha| 27|     F|     MIPT|\n",
      "|  4|  Pavel| 30|     M|     MIPT|\n",
      "|  5|   Oleg| 35|     M|     MIPT|\n",
      "|  6|   Ivan| 30|     M|      MSU|\n",
      "|  7|   Ilya| 29|     M|      MSU|\n",
      "+---+-------+---+------+---------+\n",
      "\n"
     ]
    }
   ],
   "source": [
    "g.vertices.show()"
   ]
  },
  {
   "cell_type": "code",
   "execution_count": 7,
   "metadata": {},
   "outputs": [
    {
     "name": "stdout",
     "output_type": "stream",
     "text": [
      "+---+---+------------+\n",
      "|src|dst|relationship|\n",
      "+---+---+------------+\n",
      "|  1|  2|      friend|\n",
      "|  2|  1|      friend|\n",
      "|  1|  3|      friend|\n",
      "|  3|  1|      friend|\n",
      "|  1|  4|      friend|\n",
      "|  4|  1|      friend|\n",
      "|  2|  3|      friend|\n",
      "|  3|  2|      friend|\n",
      "|  2|  5|      friend|\n",
      "|  5|  2|      friend|\n",
      "|  3|  4|      friend|\n",
      "|  4|  3|      friend|\n",
      "|  3|  5|      friend|\n",
      "|  5|  3|      friend|\n",
      "|  3|  6|      friend|\n",
      "|  6|  3|      friend|\n",
      "|  3|  7|      friend|\n",
      "|  7|  3|      friend|\n",
      "+---+---+------------+\n",
      "\n"
     ]
    }
   ],
   "source": [
    "g.edges.show()"
   ]
  },
  {
   "cell_type": "code",
   "execution_count": 8,
   "metadata": {},
   "outputs": [
    {
     "name": "stdout",
     "output_type": "stream",
     "text": [
      "+---+--------+\n",
      "| id|inDegree|\n",
      "+---+--------+\n",
      "|  7|       1|\n",
      "|  3|       6|\n",
      "|  5|       2|\n",
      "|  6|       1|\n",
      "|  1|       3|\n",
      "|  4|       2|\n",
      "|  2|       3|\n",
      "+---+--------+\n",
      "\n"
     ]
    }
   ],
   "source": [
    "g.inDegrees.show()"
   ]
  },
  {
   "cell_type": "code",
   "execution_count": 9,
   "metadata": {},
   "outputs": [
    {
     "name": "stdout",
     "output_type": "stream",
     "text": [
      "+---+---------+\n",
      "| id|outDegree|\n",
      "+---+---------+\n",
      "|  7|        1|\n",
      "|  3|        6|\n",
      "|  5|        2|\n",
      "|  6|        1|\n",
      "|  1|        3|\n",
      "|  4|        2|\n",
      "|  2|        3|\n",
      "+---+---------+\n",
      "\n"
     ]
    }
   ],
   "source": [
    "g.outDegrees.show()"
   ]
  },
  {
   "cell_type": "markdown",
   "metadata": {},
   "source": [
    "## Calculate [PageRank](https://graphframes.github.io/graphframes/docs/_site/api/python/graphframes.html#graphframes.GraphFrame.pageRank)"
   ]
  },
  {
   "cell_type": "code",
   "execution_count": 10,
   "metadata": {},
   "outputs": [
    {
     "name": "stdout",
     "output_type": "stream",
     "text": [
      "+---+-------+---+------+---------+------------------+\n",
      "| id|   name|age|gemder|universty|          pagerank|\n",
      "+---+-------+---+------+---------+------------------+\n",
      "|  1|   Alex| 28|     M|     MIPT|1.0932658920083516|\n",
      "|  3|Natasha| 27|     F|     MIPT|1.9298191847553345|\n",
      "|  2|  Emeli| 28|     F|     MIPT|1.0932658920083516|\n",
      "|  4|  Pavel| 30|     M|     MIPT|0.8453189830945632|\n",
      "|  7|   Ilya| 29|     M|      MSU|0.5965055325194178|\n",
      "|  6|   Ivan| 30|     M|      MSU|0.5965055325194178|\n",
      "|  5|   Oleg| 35|     M|     MIPT|0.8453189830945632|\n",
      "+---+-------+---+------+---------+------------------+\n",
      "\n"
     ]
    }
   ],
   "source": [
    "# Run PageRank until convergence to tolerance \"tol\"\n",
    "result = g.pageRank(resetProbability=0.15, tol=0.1)\n",
    "result.vertices.show()"
   ]
  },
  {
   "cell_type": "code",
   "execution_count": 11,
   "metadata": {},
   "outputs": [
    {
     "name": "stdout",
     "output_type": "stream",
     "text": [
      "+---+---+------------+-------------------+\n",
      "|src|dst|relationship|             weight|\n",
      "+---+---+------------+-------------------+\n",
      "|  1|  2|      friend| 0.3333333333333333|\n",
      "|  2|  5|      friend| 0.3333333333333333|\n",
      "|  1|  4|      friend| 0.3333333333333333|\n",
      "|  6|  3|      friend|                1.0|\n",
      "|  1|  3|      friend| 0.3333333333333333|\n",
      "|  3|  7|      friend|0.16666666666666666|\n",
      "|  3|  2|      friend|0.16666666666666666|\n",
      "|  3|  6|      friend|0.16666666666666666|\n",
      "|  4|  1|      friend|                0.5|\n",
      "|  5|  3|      friend|                0.5|\n",
      "|  3|  5|      friend|0.16666666666666666|\n",
      "|  5|  2|      friend|                0.5|\n",
      "|  7|  3|      friend|                1.0|\n",
      "|  4|  3|      friend|                0.5|\n",
      "|  2|  1|      friend| 0.3333333333333333|\n",
      "|  3|  4|      friend|0.16666666666666666|\n",
      "|  3|  1|      friend|0.16666666666666666|\n",
      "|  2|  3|      friend| 0.3333333333333333|\n",
      "+---+---+------------+-------------------+\n",
      "\n"
     ]
    }
   ],
   "source": [
    "result.edges.show()"
   ]
  },
  {
   "cell_type": "code",
   "execution_count": 12,
   "metadata": {
    "scrolled": true
   },
   "outputs": [
    {
     "name": "stdout",
     "output_type": "stream",
     "text": [
      "+---+-------+---+------+---------+-------------------+\n",
      "| id|   name|age|gemder|universty|           pagerank|\n",
      "+---+-------+---+------+---------+-------------------+\n",
      "|  1|   Alex| 28|     M|     MIPT|  1.120863948063202|\n",
      "|  3|Natasha| 27|     F|     MIPT|  2.239465678054025|\n",
      "|  2|  Emeli| 28|     F|     MIPT|  1.120863948063202|\n",
      "|  4|  Pavel| 30|     M|     MIPT| 0.7882518740579809|\n",
      "|  7|   Ilya| 29|     M|      MSU|0.47115133885180416|\n",
      "|  6|   Ivan| 30|     M|      MSU|0.47115133885180416|\n",
      "|  5|   Oleg| 35|     M|     MIPT| 0.7882518740579809|\n",
      "+---+-------+---+------+---------+-------------------+\n",
      "\n"
     ]
    }
   ],
   "source": [
    "# Run PageRank for a fixed number of iterations\n",
    "result = g.pageRank(resetProbability=0.15, maxIter=10)\n",
    "result.vertices.show()"
   ]
  },
  {
   "cell_type": "code",
   "execution_count": 13,
   "metadata": {},
   "outputs": [
    {
     "name": "stdout",
     "output_type": "stream",
     "text": [
      "+---+---+------------+-------------------+\n",
      "|src|dst|relationship|             weight|\n",
      "+---+---+------------+-------------------+\n",
      "|  1|  2|      friend| 0.3333333333333333|\n",
      "|  2|  5|      friend| 0.3333333333333333|\n",
      "|  1|  4|      friend| 0.3333333333333333|\n",
      "|  6|  3|      friend|                1.0|\n",
      "|  1|  3|      friend| 0.3333333333333333|\n",
      "|  3|  7|      friend|0.16666666666666666|\n",
      "|  3|  2|      friend|0.16666666666666666|\n",
      "|  3|  6|      friend|0.16666666666666666|\n",
      "|  4|  1|      friend|                0.5|\n",
      "|  5|  3|      friend|                0.5|\n",
      "|  3|  5|      friend|0.16666666666666666|\n",
      "|  5|  2|      friend|                0.5|\n",
      "|  7|  3|      friend|                1.0|\n",
      "|  4|  3|      friend|                0.5|\n",
      "|  2|  1|      friend| 0.3333333333333333|\n",
      "|  3|  4|      friend|0.16666666666666666|\n",
      "|  3|  1|      friend|0.16666666666666666|\n",
      "|  2|  3|      friend| 0.3333333333333333|\n",
      "+---+---+------------+-------------------+\n",
      "\n"
     ]
    }
   ],
   "source": [
    "result.edges.show()"
   ]
  }
 ],
 "metadata": {
  "kernelspec": {
   "display_name": "Python 3",
   "language": "python",
   "name": "python3"
  },
  "language_info": {
   "codemirror_mode": {
    "name": "ipython",
    "version": 3
   },
   "file_extension": ".py",
   "mimetype": "text/x-python",
   "name": "python",
   "nbconvert_exporter": "python",
   "pygments_lexer": "ipython3",
   "version": "3.7.6"
  }
 },
 "nbformat": 4,
 "nbformat_minor": 4
}